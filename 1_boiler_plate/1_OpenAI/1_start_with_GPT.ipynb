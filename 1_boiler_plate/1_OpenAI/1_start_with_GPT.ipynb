{
 "cells": [
  {
   "cell_type": "markdown",
   "id": "c4934c30-ce1f-4a75-ba43-c7ad3fe8a1d3",
   "metadata": {},
   "source": [
    "### Reference\n",
    "\n",
    "https://platform.openai.com/docs/quickstart"
   ]
  },
  {
   "cell_type": "code",
   "execution_count": 1,
   "id": "cc8d1d77-124a-44c9-936d-ebdc08c980e9",
   "metadata": {},
   "outputs": [],
   "source": [
    "from openai import OpenAI\n",
    "client = OpenAI()\n",
    "\n"
   ]
  },
  {
   "cell_type": "code",
   "execution_count": 3,
   "id": "3d7df388-9928-489d-892c-47ef73cd703e",
   "metadata": {},
   "outputs": [
    {
     "name": "stdout",
     "output_type": "stream",
     "text": [
      "ChatCompletionMessage(content='In the realm of code, a concept profound,\\nRecursion echoes with a looping sound,\\nA function within itself it calls,\\nLike echoes bouncing off the walls.\\n\\nWith elegance and finesse it plays,\\nUnfolding loops in mysterious ways,\\nLike a mirror reflecting its own image,\\nA dance of patterns that never diminish.\\n\\nThrough layers of calls, it travels deep,\\nLike a dream that never falls asleep,\\nRepeating tasks with a graceful sway,\\nTill the termination point lights the way.\\n\\nInfinite power in its looping grace,\\nA concept woven in programming’s embrace,\\nRecursive, the magic it bestows,\\nIn the land where creativity flows.', role='assistant', function_call=None, tool_calls=None)\n"
     ]
    }
   ],
   "source": [
    "completion = client.chat.completions.create(\n",
    "  model=\"gpt-3.5-turbo-0125\",\n",
    "  messages=[\n",
    "    {\"role\": \"system\", \"content\": \"You are a poetic assistant, skilled in explaining complex programming concepts with creative flair.\"},\n",
    "    {\"role\": \"user\", \"content\": \"Compose a poem that explains the concept of recursion in programming.\"}\n",
    "  ]\n",
    ")\n",
    "\n"
   ]
  },
  {
   "cell_type": "code",
   "execution_count": 4,
   "id": "f0c10946-540a-4dcb-8f63-b1056b26aded",
   "metadata": {},
   "outputs": [
    {
     "name": "stdout",
     "output_type": "stream",
     "text": [
      "In the realm of code, a concept profound,\n",
      "Recursion echoes with a looping sound,\n",
      "A function within itself it calls,\n",
      "Like echoes bouncing off the walls.\n",
      "\n",
      "With elegance and finesse it plays,\n",
      "Unfolding loops in mysterious ways,\n",
      "Like a mirror reflecting its own image,\n",
      "A dance of patterns that never diminish.\n",
      "\n",
      "Through layers of calls, it travels deep,\n",
      "Like a dream that never falls asleep,\n",
      "Repeating tasks with a graceful sway,\n",
      "Till the termination point lights the way.\n",
      "\n",
      "Infinite power in its looping grace,\n",
      "A concept woven in programming’s embrace,\n",
      "Recursive, the magic it bestows,\n",
      "In the land where creativity flows.\n"
     ]
    }
   ],
   "source": [
    "print(completion.choices[0].message.content)"
   ]
  },
  {
   "cell_type": "code",
   "execution_count": null,
   "id": "dc149c07-a307-4e7a-bbbe-82aefbd50af3",
   "metadata": {},
   "outputs": [],
   "source": []
  }
 ],
 "metadata": {
  "kernelspec": {
   "display_name": "Python 3 (ipykernel)",
   "language": "python",
   "name": "python3"
  },
  "language_info": {
   "codemirror_mode": {
    "name": "ipython",
    "version": 3
   },
   "file_extension": ".py",
   "mimetype": "text/x-python",
   "name": "python",
   "nbconvert_exporter": "python",
   "pygments_lexer": "ipython3",
   "version": "3.11.7"
  }
 },
 "nbformat": 4,
 "nbformat_minor": 5
}
