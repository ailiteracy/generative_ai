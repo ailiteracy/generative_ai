{
 "cells": [
  {
   "cell_type": "code",
   "execution_count": 1,
   "id": "1909b044-3ec9-4f74-9772-3aee61b7d180",
   "metadata": {},
   "outputs": [],
   "source": [
    "import os\n",
    "import base64\n",
    "import requests"
   ]
  },
  {
   "cell_type": "code",
   "execution_count": 3,
   "id": "f475e37c-2d35-4201-8b41-ffa6153753b2",
   "metadata": {},
   "outputs": [],
   "source": [
    "api_key =  os.getenv(\"GPT4_V\")\n",
    "# api_key"
   ]
  },
  {
   "cell_type": "code",
   "execution_count": 7,
   "id": "2e583d5b-1161-47f0-bac7-4686a198dedb",
   "metadata": {},
   "outputs": [],
   "source": [
    "\n",
    "# Function to encode the image\n",
    "def encode_image(image_path):\n",
    "  with open(image_path, \"rb\") as image_file:\n",
    "    return base64.b64encode(image_file.read()).decode('utf-8')\n"
   ]
  },
  {
   "cell_type": "markdown",
   "id": "f0f7b89d-e9a7-4126-a8c4-f3e203767bab",
   "metadata": {},
   "source": [
    "## Sample"
   ]
  },
  {
   "cell_type": "code",
   "execution_count": 35,
   "id": "651fec60-bb33-45af-8043-9532882ac5c0",
   "metadata": {},
   "outputs": [],
   "source": [
    "image_path = \".//images/page_2.png\""
   ]
  },
  {
   "cell_type": "code",
   "execution_count": 36,
   "id": "7fc87814-54f2-4688-a739-06750ffb06da",
   "metadata": {},
   "outputs": [],
   "source": [
    "prompt = \"Extract all text from the image and describe the image.\""
   ]
  },
  {
   "cell_type": "code",
   "execution_count": 40,
   "id": "e7b35980-9360-4407-84d1-3d9056071d88",
   "metadata": {},
   "outputs": [],
   "source": [
    "\n",
    "# Path to your image\n",
    "\n",
    "\n",
    "# Getting the base64 string\n",
    "base64_image = encode_image(image_path)\n",
    "\n",
    "headers = {\n",
    "  \"Content-Type\": \"application/json\",\n",
    "  \"Authorization\": f\"Bearer {api_key}\"\n",
    "}\n",
    "\n",
    "payload = {\n",
    "  \"model\": \"gpt-4-turbo-2024-04-09\",\n",
    "  \"messages\": [\n",
    "    {\n",
    "      \"role\": \"user\",\n",
    "      \"content\": [\n",
    "        {\n",
    "          \"type\": \"text\",\n",
    "          \"text\": prompt\n",
    "        },\n",
    "        {\n",
    "          \"type\": \"image_url\",\n",
    "          \"image_url\": {\n",
    "            \"url\": f\"data:image/jpeg;base64,{base64_image}\"\n",
    "          }\n",
    "        }\n",
    "      ]\n",
    "    }\n",
    "  ],\n",
    "  \"max_tokens\": 4000,\n",
    "    \"temperature\" : 0.1,\n",
    "    \"top_p\" : 0.1\n",
    "}\n",
    "\n",
    "response = requests.post(\"https://api.openai.com/v1/chat/completions\", headers=headers, json=payload)\n",
    "\n"
   ]
  },
  {
   "cell_type": "code",
   "execution_count": 41,
   "id": "13a5ccb0-5aa5-4ffd-929c-c81e7b3cc998",
   "metadata": {},
   "outputs": [],
   "source": [
    "response_json =response.json()\n",
    "# print(response_json)"
   ]
  },
  {
   "cell_type": "code",
   "execution_count": 43,
   "id": "ff9df8aa-5641-43aa-bc12-7b3233df7713",
   "metadata": {},
   "outputs": [
    {
     "data": {
      "text/plain": [
       "{'prompt_tokens': 783, 'completion_tokens': 527, 'total_tokens': 1310}"
      ]
     },
     "execution_count": 43,
     "metadata": {},
     "output_type": "execute_result"
    }
   ],
   "source": [
    "response_json[\"usage\"]"
   ]
  },
  {
   "cell_type": "code",
   "execution_count": 42,
   "id": "0f49962b-8184-495f-8491-700a2f7df8a6",
   "metadata": {},
   "outputs": [
    {
     "name": "stdout",
     "output_type": "stream",
     "text": [
      "The image is a page from the \"Artificial Intelligence Index Report 2024\" and it is titled \"1.1 Publications\" under Chapter 1: Research and Development. The page includes text and a bar graph.\n",
      "\n",
      "**Text Content:**\n",
      "- Title: \"Artificial Intelligence Index Report 2024\"\n",
      "- Subtitle: \"Chapter 1: Research and Development 1.1 Publications\"\n",
      "- Section Title: \"1.1 Publications\"\n",
      "- Subsection Titles: \"Overview\" and \"Total Number of AI Publications\"\n",
      "- Overview Text: \"The figures below present the global count of English-language AI publications from 2010 to 2022, categorized by type of affiliation and cross-sector collaborations. Additionally, this section details publication data for AI journal articles and conference papers.\"\n",
      "- Total Number of AI Publications Text: \"Figure 1.1.1 displays the global count of AI publications. Between 2010 and 2022, the total number of AI publications nearly tripled, rising from approximately 88,000 in 2010 to more than 240,000 in 2022. The increase over the last year was a modest 11%.\"\n",
      "- Footnote: \"The data on publications presented this year is sourced from CSET. Both the methodology and data sources used by CSET to classify AI publications have changed since this data was last featured in the AI Index (2023). As a result, the numbers reported in this year's section differ slightly from those reported in last year's edition. Moreover, the AI-related publication data is fully available only up to 2022 due to a significant lag in updating publication data. Readers are advised to approach publication figures with appropriate caution.\"\n",
      "- Graph Title: \"Number of AI publications in the world, 2010–22\"\n",
      "- Graph Source: \"Source: Center for Security and Emerging Technology, 2023 | Chart: 2024 AI Index report\"\n",
      "- Graph Description: A bar graph showing the number of AI publications from 2010 to 2022, with a steady increase over the years, particularly a sharp rise from 2019 to 2022.\n",
      "\n",
      "**Graph Description:**\n",
      "The bar graph illustrates the number of AI publications worldwide from 2010 to 2022. The x-axis represents the years, and the y-axis represents the number of publications (in thousands). The bars show a gradual increase in publications from 2010, with a more significant rise starting from around 2019, reaching a peak in 2022. The highest bar corresponds to the year 2022, indicating the most publications.\n"
     ]
    }
   ],
   "source": [
    "print(response_json['choices'][0]['message']['content'])"
   ]
  },
  {
   "cell_type": "markdown",
   "id": "db994baa-c876-4074-9b11-51b667c7e035",
   "metadata": {},
   "source": [
    "### Extract into a text file"
   ]
  },
  {
   "cell_type": "code",
   "execution_count": 45,
   "id": "2717f5ab-0854-401d-bf47-344f9f9859c0",
   "metadata": {},
   "outputs": [],
   "source": [
    "def extract_content_from_image(img_path):\n",
    "    base64_image = encode_image(image_path)\n",
    "    payload = {\n",
    "      \"model\": \"gpt-4-turbo-2024-04-09\",\n",
    "      \"messages\": [\n",
    "        {\n",
    "          \"role\": \"user\",\n",
    "          \"content\": [\n",
    "            {\n",
    "              \"type\": \"text\",\n",
    "              \"text\": prompt\n",
    "            },\n",
    "            {\n",
    "              \"type\": \"image_url\",\n",
    "              \"image_url\": {\n",
    "                \"url\": f\"data:image/jpeg;base64,{base64_image}\"\n",
    "              }\n",
    "            }\n",
    "          ]\n",
    "        }\n",
    "      ],\n",
    "      \"max_tokens\": 4000,\n",
    "        \"temperature\" : 0.1,\n",
    "        \"top_p\" : 0.1\n",
    "    }\n",
    "    \n",
    "    response = requests.post(\"https://api.openai.com/v1/chat/completions\", headers=headers, json=payload)\n",
    "    response_json =response.json()\n",
    "    print(response_json[\"usage\"])\n",
    "    return(response_json['choices'][0]['message']['content'])"
   ]
  },
  {
   "cell_type": "code",
   "execution_count": 46,
   "id": "e79210a9-570b-44a1-95f9-1e1c27bfd242",
   "metadata": {},
   "outputs": [],
   "source": [
    "import glob as glob"
   ]
  },
  {
   "cell_type": "code",
   "execution_count": 48,
   "id": "ce75d07d-85fc-4d02-9f78-d007dbd4402b",
   "metadata": {},
   "outputs": [
    {
     "data": {
      "text/plain": [
       "['.//images\\\\page_0.png',\n",
       " './/images\\\\page_1.png',\n",
       " './/images\\\\page_2.png',\n",
       " './/images\\\\page_3.png']"
      ]
     },
     "execution_count": 48,
     "metadata": {},
     "output_type": "execute_result"
    }
   ],
   "source": [
    "files = glob.glob(\".//images//*.png\")"
   ]
  },
  {
   "cell_type": "code",
   "execution_count": 61,
   "id": "32953dd5-6d99-40e4-9975-244a8619fe20",
   "metadata": {},
   "outputs": [],
   "source": [
    "# ofolder = \".//text//\"\n",
    "# ofile = f\"{ofolder}{fname}.txt\"\n",
    "# with open(ofile, \"w\", encoding=\"utf-8\") as outfile:\n",
    "#     content = extract_content_from_image(f)\n",
    "#     outfile.write(contents)"
   ]
  },
  {
   "cell_type": "code",
   "execution_count": 60,
   "id": "5b6927ff-bcfc-4d36-abef-bbfeb5b146b5",
   "metadata": {},
   "outputs": [],
   "source": [
    "# for f in files:\n",
    "#     ofile = f\"{ofolder}{fname}.txt\"\n",
    "#     with open(ofile, \"w\", encoding=\"utf-8\") as outfile:\n",
    "#         content = extract_content_from_image(f)\n",
    "#         outfile.write(contents)"
   ]
  },
  {
   "cell_type": "code",
   "execution_count": null,
   "id": "2c0f5155-a652-4278-a38d-f9b2256b3022",
   "metadata": {},
   "outputs": [],
   "source": []
  }
 ],
 "metadata": {
  "kernelspec": {
   "display_name": "Python 3 (ipykernel)",
   "language": "python",
   "name": "python3"
  },
  "language_info": {
   "codemirror_mode": {
    "name": "ipython",
    "version": 3
   },
   "file_extension": ".py",
   "mimetype": "text/x-python",
   "name": "python",
   "nbconvert_exporter": "python",
   "pygments_lexer": "ipython3",
   "version": "3.11.7"
  }
 },
 "nbformat": 4,
 "nbformat_minor": 5
}
