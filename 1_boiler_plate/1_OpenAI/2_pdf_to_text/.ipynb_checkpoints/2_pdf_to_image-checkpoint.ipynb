{
 "cells": [
  {
   "cell_type": "code",
   "execution_count": 6,
   "id": "89301366-4b4c-4a89-9362-8714da54ce19",
   "metadata": {},
   "outputs": [],
   "source": [
    "# import fitz  # PyMuPDF library\n",
    "filename = \".//sample_pdf//sample_AI-Index-Report-2024.pdf\"\n",
    "ofolder = \".//images//\""
   ]
  },
  {
   "cell_type": "code",
   "execution_count": 2,
   "id": "cd5773d4-ddb4-4fec-9fca-1aa87b2e1b60",
   "metadata": {},
   "outputs": [],
   "source": [
    "import pymupdf"
   ]
  },
  {
   "cell_type": "code",
   "execution_count": 3,
   "id": "bde7a8fa-8530-4994-ba46-1099c7fb4c17",
   "metadata": {},
   "outputs": [],
   "source": [
    "doc = pymupdf.open(filename)  # or pymupdf.Document(filename)"
   ]
  },
  {
   "cell_type": "code",
   "execution_count": 4,
   "id": "4eb11619-24ef-4922-8173-b03b09fd9eda",
   "metadata": {},
   "outputs": [],
   "source": [
    "dpi = 250"
   ]
  },
  {
   "cell_type": "code",
   "execution_count": 8,
   "id": "b1019115-3f35-4466-bbec-98d1aabbadbe",
   "metadata": {},
   "outputs": [],
   "source": [
    "for page in doc:\n",
    "    pix = page.get_pixmap(dpi=dpi)\n",
    "    ofile = f\"{ofolder}page_{page.number}.png\"\n",
    "    pix.save(ofile)"
   ]
  }
 ],
 "metadata": {
  "kernelspec": {
   "display_name": "Python 3 (ipykernel)",
   "language": "python",
   "name": "python3"
  },
  "language_info": {
   "codemirror_mode": {
    "name": "ipython",
    "version": 3
   },
   "file_extension": ".py",
   "mimetype": "text/x-python",
   "name": "python",
   "nbconvert_exporter": "python",
   "pygments_lexer": "ipython3",
   "version": "3.11.7"
  }
 },
 "nbformat": 4,
 "nbformat_minor": 5
}
