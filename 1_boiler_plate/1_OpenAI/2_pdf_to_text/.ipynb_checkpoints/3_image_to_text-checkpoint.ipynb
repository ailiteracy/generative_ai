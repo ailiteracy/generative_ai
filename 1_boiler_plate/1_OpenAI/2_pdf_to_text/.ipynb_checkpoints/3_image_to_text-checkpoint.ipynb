{
 "cells": [
  {
   "cell_type": "code",
   "execution_count": 1,
   "id": "1909b044-3ec9-4f74-9772-3aee61b7d180",
   "metadata": {},
   "outputs": [],
   "source": [
    "import os\n",
    "import base64\n",
    "import requests"
   ]
  },
  {
   "cell_type": "code",
   "execution_count": 3,
   "id": "f475e37c-2d35-4201-8b41-ffa6153753b2",
   "metadata": {},
   "outputs": [],
   "source": [
    "api_key =  os.getenv(\"GPT4_V\")\n",
    "# api_key"
   ]
  },
  {
   "cell_type": "code",
   "execution_count": 7,
   "id": "2e583d5b-1161-47f0-bac7-4686a198dedb",
   "metadata": {},
   "outputs": [],
   "source": [
    "\n",
    "# Function to encode the image\n",
    "def encode_image(image_path):\n",
    "  with open(image_path, \"rb\") as image_file:\n",
    "    return base64.b64encode(image_file.read()).decode('utf-8')\n"
   ]
  },
  {
   "cell_type": "code",
   "execution_count": 8,
   "id": "651fec60-bb33-45af-8043-9532882ac5c0",
   "metadata": {},
   "outputs": [],
   "source": [
    "image_path = \".//images/page_2.png\""
   ]
  },
  {
   "cell_type": "code",
   "execution_count": 21,
   "id": "7fc87814-54f2-4688-a739-06750ffb06da",
   "metadata": {},
   "outputs": [],
   "source": [
    "prompt = \"Extract all text from the image\""
   ]
  },
  {
   "cell_type": "code",
   "execution_count": 22,
   "id": "e7b35980-9360-4407-84d1-3d9056071d88",
   "metadata": {},
   "outputs": [],
   "source": [
    "\n",
    "# Path to your image\n",
    "\n",
    "\n",
    "# Getting the base64 string\n",
    "base64_image = encode_image(image_path)\n",
    "\n",
    "headers = {\n",
    "  \"Content-Type\": \"application/json\",\n",
    "  \"Authorization\": f\"Bearer {api_key}\"\n",
    "}\n",
    "\n",
    "payload = {\n",
    "  \"model\": \"gpt-4-turbo-2024-04-09\",\n",
    "  \"messages\": [\n",
    "    {\n",
    "      \"role\": \"user\",\n",
    "      \"content\": [\n",
    "        {\n",
    "          \"type\": \"text\",\n",
    "          \"text\": prompt\n",
    "        },\n",
    "        {\n",
    "          \"type\": \"image_url\",\n",
    "          \"image_url\": {\n",
    "            \"url\": f\"data:image/jpeg;base64,{base64_image}\"\n",
    "          }\n",
    "        }\n",
    "      ]\n",
    "    }\n",
    "  ],\n",
    "  \"max_tokens\": 1000\n",
    "}\n",
    "\n",
    "response = requests.post(\"https://api.openai.com/v1/chat/completions\", headers=headers, json=payload)\n",
    "\n"
   ]
  },
  {
   "cell_type": "code",
   "execution_count": 23,
   "id": "13a5ccb0-5aa5-4ffd-929c-c81e7b3cc998",
   "metadata": {},
   "outputs": [],
   "source": [
    "response_json =response.json()\n",
    "# print(response_json)"
   ]
  },
  {
   "cell_type": "code",
   "execution_count": 24,
   "id": "48cd4581-4c69-4cf8-873c-07903fc56a5c",
   "metadata": {},
   "outputs": [
    {
     "name": "stdout",
     "output_type": "stream",
     "text": [
      "Artificial Intelligence\n",
      "Index Report 2024\n",
      "\n",
      "Preview\n",
      "\n",
      "CHAPTER 1:\n",
      "Research and Development\n",
      "\n",
      "Overview\t29\n",
      "Chapter Highlights\t30\n",
      "\n",
      "1.1 Publications\t31\n",
      "Overview\t31\n",
      "Total Number of AI Publications\t31\n",
      "By Type of Publication\t32\n",
      "By Field of Study\t33\n",
      "By Sector\t34\n",
      "AI Journal Publications\t36\n",
      "AI Conference Publications\t37\n",
      "\n",
      "1.2 Patents\t38\n",
      "AI Patents\t38\n",
      "Overview\t38\n",
      "By Filing Status and Region\t39\n",
      "\n",
      "1.3 Frontier AI Research\t45\n",
      "General Machine Learning Models\t45\n",
      "Overview\t45\n",
      "Sector Analysis\t46\n",
      "National Affiliation\t47\n",
      "Parameter Trends\t49\n",
      "Compute Trends\t50\n",
      "Highlight: Will Models Run Out of Data?\t52\n",
      "Foundation Models\t56\n",
      "Model Release\t56\n",
      "Organizational Affiliation\t58\n",
      "National Affiliation\t61\n",
      "Training Cost\t63\n",
      "\n",
      "1.4 AI Conferences\t66\n",
      "Conference Attendance\t66\n",
      "\n",
      "1.5 Open-Source AI Software\t69\n",
      "Projects\t69\n",
      "Stars\t71\n",
      "\n",
      "ACCESS THE PUBLIC DATA\n",
      "\n"
     ]
    }
   ],
   "source": [
    "print(response_json['choices'][0]['message']['content'])"
   ]
  },
  {
   "cell_type": "code",
   "execution_count": null,
   "id": "12c589f4-df7c-40fa-9fe1-f85720aa3a47",
   "metadata": {},
   "outputs": [],
   "source": []
  }
 ],
 "metadata": {
  "kernelspec": {
   "display_name": "Python 3 (ipykernel)",
   "language": "python",
   "name": "python3"
  },
  "language_info": {
   "codemirror_mode": {
    "name": "ipython",
    "version": 3
   },
   "file_extension": ".py",
   "mimetype": "text/x-python",
   "name": "python",
   "nbconvert_exporter": "python",
   "pygments_lexer": "ipython3",
   "version": "3.11.7"
  }
 },
 "nbformat": 4,
 "nbformat_minor": 5
}
