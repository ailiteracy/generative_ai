{
 "cells": [
  {
   "cell_type": "code",
   "execution_count": null,
   "id": "52615821-b3b3-4c5a-8b6d-07d1315e2b02",
   "metadata": {},
   "outputs": [],
   "source": []
  },
  {
   "cell_type": "code",
   "execution_count": 2,
   "id": "27ef451e-70d6-41b1-a044-29913df95aa9",
   "metadata": {},
   "outputs": [],
   "source": [
    "filename = \".//sample_pdf//HAI_AI-Index-Report-2024.pdf\"\n",
    "ofile = \".//sample_pdf//sample_AI-Index-Report-2024.pdf\""
   ]
  },
  {
   "cell_type": "code",
   "execution_count": 5,
   "id": "2a487e7b-8b65-4642-98b3-8e051a9debcb",
   "metadata": {},
   "outputs": [],
   "source": [
    "page_numbers = [27, 29, 30]"
   ]
  },
  {
   "cell_type": "code",
   "execution_count": 7,
   "id": "965b4c14-f180-4aac-8c45-85eeeb843135",
   "metadata": {},
   "outputs": [],
   "source": [
    "import PyPDF2\n",
    "\n",
    "# Open the input PDF file\n",
    "with open(filename, 'rb') as file:\n",
    "    pdf_reader = PyPDF2.PdfReader(file)\n",
    "\n",
    "\n",
    "    # Create a new PDF file for the extracted pages\n",
    "    pdf_writer = PyPDF2.PdfWriter()\n",
    "\n",
    "    # Iterate through the page numbers and add them to the output file\n",
    "    for page_num in page_numbers:\n",
    "        page = pdf_reader.pages[page_num]\n",
    "        pdf_writer.add_page(page)\n",
    "\n",
    "    # Save the output file\n",
    "    with open(ofile, 'wb') as output_file:\n",
    "        pdf_writer.write(output_file)"
   ]
  },
  {
   "cell_type": "code",
   "execution_count": null,
   "id": "0f44b704-7f36-43c1-ba30-796549cfc44e",
   "metadata": {},
   "outputs": [],
   "source": []
  }
 ],
 "metadata": {
  "kernelspec": {
   "display_name": "Python 3 (ipykernel)",
   "language": "python",
   "name": "python3"
  },
  "language_info": {
   "codemirror_mode": {
    "name": "ipython",
    "version": 3
   },
   "file_extension": ".py",
   "mimetype": "text/x-python",
   "name": "python",
   "nbconvert_exporter": "python",
   "pygments_lexer": "ipython3",
   "version": "3.11.7"
  }
 },
 "nbformat": 4,
 "nbformat_minor": 5
}
